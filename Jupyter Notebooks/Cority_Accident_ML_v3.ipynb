version https://git-lfs.github.com/spec/v1
oid sha256:c6b8d8cdb7c4c827c2037b1bd20039580bf6244c9d55d6dba8d6a6f749ceaf14
size 417875
